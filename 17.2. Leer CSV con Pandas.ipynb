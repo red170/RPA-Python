{
 "cells": [
  {
   "cell_type": "code",
   "execution_count": 2,
   "metadata": {},
   "outputs": [
    {
     "name": "stdout",
     "output_type": "stream",
     "text": [
      "    nombre   apellido  edad\n",
      "0  ernesto   portillo    27\n",
      "1    oscar      lopez    28\n",
      "2     juan      perez    40\n",
      "3    maria  hernandez    35\n",
      "4    karen     torres    29\n"
     ]
    }
   ],
   "source": [
    "import pandas as pd\n",
    "archivo = pd.read_csv(\"./Resources/test.csv\")\n",
    "print(archivo)"
   ]
  }
 ],
 "metadata": {
  "kernelspec": {
   "display_name": "Python 3",
   "language": "python",
   "name": "python3"
  },
  "language_info": {
   "codemirror_mode": {
    "name": "ipython",
    "version": 3
   },
   "file_extension": ".py",
   "mimetype": "text/x-python",
   "name": "python",
   "nbconvert_exporter": "python",
   "pygments_lexer": "ipython3",
   "version": "3.12.3"
  }
 },
 "nbformat": 4,
 "nbformat_minor": 2
}
