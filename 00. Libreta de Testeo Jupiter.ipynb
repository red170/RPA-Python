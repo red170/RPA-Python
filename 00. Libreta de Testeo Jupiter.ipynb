{
 "cells": [
  {
   "cell_type": "code",
   "execution_count": 1,
   "metadata": {},
   "outputs": [
    {
     "name": "stdout",
     "output_type": "stream",
     "text": [
      "55\n"
     ]
    }
   ],
   "source": [
    "def suma_total(numeros):\n",
    "    return sum([*numeros])\n",
    "resultado = suma_total([1,2,3,4,5,6,7,8,9,10])\n",
    "print(resultado)"
   ]
  },
  {
   "cell_type": "code",
   "execution_count": 2,
   "metadata": {},
   "outputs": [
    {
     "name": "stdout",
     "output_type": "stream",
     "text": [
      "55\n"
     ]
    }
   ],
   "source": [
    "def suma(*numeros2):\n",
    "    return sum(numeros2)\n",
    "resultado2 = suma(1,2,3,4,5,6,7,8,9,10)\n",
    "print(resultado2)"
   ]
  },
  {
   "cell_type": "code",
   "execution_count": 3,
   "metadata": {},
   "outputs": [
    {
     "name": "stdout",
     "output_type": "stream",
     "text": [
      "hola oscar portillo capo\n",
      "hola juan pablo capo\n",
      "hola juan pablo maestro\n"
     ]
    }
   ],
   "source": [
    "def saludo(nombre = 'oscar', apellido = 'portillo', adjetivo = 'capo'):\n",
    "    return f'hola {nombre} {apellido} {adjetivo}'\n",
    "\n",
    "print(saludo())\n",
    "print(saludo('juan', 'pablo'))\n",
    "print(saludo('juan', 'pablo', 'maestro'))"
   ]
  },
  {
   "cell_type": "code",
   "execution_count": 4,
   "metadata": {},
   "outputs": [
    {
     "name": "stdout",
     "output_type": "stream",
     "text": [
      "[2, 4, 6, 8]\n"
     ]
    }
   ],
   "source": [
    "numeros = [1,2,3,4,5,6,7,8]\n",
    "\n",
    "def par(num):\n",
    "    if num%2 == 0:\n",
    "        return True\n",
    "\n",
    "pares = filter(par,numeros)\n",
    "print(list(pares))"
   ]
  }
 ],
 "metadata": {
  "kernelspec": {
   "display_name": "Python 3",
   "language": "python",
   "name": "python3"
  },
  "language_info": {
   "codemirror_mode": {
    "name": "ipython",
    "version": 3
   },
   "file_extension": ".py",
   "mimetype": "text/x-python",
   "name": "python",
   "nbconvert_exporter": "python",
   "pygments_lexer": "ipython3",
   "version": "3.12.3"
  }
 },
 "nbformat": 4,
 "nbformat_minor": 2
}
